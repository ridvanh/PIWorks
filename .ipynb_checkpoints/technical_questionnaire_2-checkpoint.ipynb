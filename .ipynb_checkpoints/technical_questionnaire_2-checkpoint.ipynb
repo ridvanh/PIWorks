{
 "cells": [
  {
   "cell_type": "markdown",
   "id": "4ec47531",
   "metadata": {},
   "source": [
    "## Question 9"
   ]
  },
  {
   "cell_type": "code",
   "execution_count": 2,
   "id": "dd72004e",
   "metadata": {},
   "outputs": [],
   "source": [
    "import pandas as pd\n",
    "import re\n",
    "from io import StringIO"
   ]
  },
  {
   "cell_type": "code",
   "execution_count": 3,
   "id": "471a2e19",
   "metadata": {},
   "outputs": [],
   "source": [
    "data = \"\"\"Device_Type,Stats_Access_Link\n",
    "AXO145,<url>https://xcd32112.smart_meter.com</url>\n",
    "TRU151,<url>http://tXh67.dia_meter.com</url>\n",
    "ZOD231,<url>http://yT5495.smart_meter.com</url>\n",
    "YRT326,<url>https://ret323_TRu.crown.com</url>\n",
    "LWR245,<url>https://luwr3243.celcius.com</url>\"\"\"\n",
    "\n",
    "df = pd.read_csv(StringIO(data))"
   ]
  },
  {
   "cell_type": "code",
   "execution_count": 4,
   "id": "445976d3",
   "metadata": {},
   "outputs": [
    {
     "data": {
      "text/html": [
       "<div>\n",
       "<style scoped>\n",
       "    .dataframe tbody tr th:only-of-type {\n",
       "        vertical-align: middle;\n",
       "    }\n",
       "\n",
       "    .dataframe tbody tr th {\n",
       "        vertical-align: top;\n",
       "    }\n",
       "\n",
       "    .dataframe thead th {\n",
       "        text-align: right;\n",
       "    }\n",
       "</style>\n",
       "<table border=\"1\" class=\"dataframe\">\n",
       "  <thead>\n",
       "    <tr style=\"text-align: right;\">\n",
       "      <th></th>\n",
       "      <th>Device_Type</th>\n",
       "      <th>Stats_Access_Link</th>\n",
       "    </tr>\n",
       "  </thead>\n",
       "  <tbody>\n",
       "    <tr>\n",
       "      <th>0</th>\n",
       "      <td>AXO145</td>\n",
       "      <td>&lt;url&gt;https://xcd32112.smart_meter.com&lt;/url&gt;</td>\n",
       "    </tr>\n",
       "    <tr>\n",
       "      <th>1</th>\n",
       "      <td>TRU151</td>\n",
       "      <td>&lt;url&gt;http://tXh67.dia_meter.com&lt;/url&gt;</td>\n",
       "    </tr>\n",
       "    <tr>\n",
       "      <th>2</th>\n",
       "      <td>ZOD231</td>\n",
       "      <td>&lt;url&gt;http://yT5495.smart_meter.com&lt;/url&gt;</td>\n",
       "    </tr>\n",
       "    <tr>\n",
       "      <th>3</th>\n",
       "      <td>YRT326</td>\n",
       "      <td>&lt;url&gt;https://ret323_TRu.crown.com&lt;/url&gt;</td>\n",
       "    </tr>\n",
       "    <tr>\n",
       "      <th>4</th>\n",
       "      <td>LWR245</td>\n",
       "      <td>&lt;url&gt;https://luwr3243.celcius.com&lt;/url&gt;</td>\n",
       "    </tr>\n",
       "  </tbody>\n",
       "</table>\n",
       "</div>"
      ],
      "text/plain": [
       "  Device_Type                            Stats_Access_Link\n",
       "0      AXO145  <url>https://xcd32112.smart_meter.com</url>\n",
       "1      TRU151        <url>http://tXh67.dia_meter.com</url>\n",
       "2      ZOD231     <url>http://yT5495.smart_meter.com</url>\n",
       "3      YRT326      <url>https://ret323_TRu.crown.com</url>\n",
       "4      LWR245      <url>https://luwr3243.celcius.com</url>"
      ]
     },
     "execution_count": 4,
     "metadata": {},
     "output_type": "execute_result"
    }
   ],
   "source": [
    "df"
   ]
  },
  {
   "cell_type": "code",
   "execution_count": 6,
   "id": "a6a0f002",
   "metadata": {},
   "outputs": [],
   "source": [
    "df['Pure_Url'] = df['Stats_Access_Link'].apply(lambda x: re.sub(r'^https?://', '', re.sub(r'<[^>]*>', '', x)))"
   ]
  },
  {
   "cell_type": "code",
   "execution_count": 7,
   "id": "2f19b316",
   "metadata": {},
   "outputs": [
    {
     "data": {
      "text/html": [
       "<div>\n",
       "<style scoped>\n",
       "    .dataframe tbody tr th:only-of-type {\n",
       "        vertical-align: middle;\n",
       "    }\n",
       "\n",
       "    .dataframe tbody tr th {\n",
       "        vertical-align: top;\n",
       "    }\n",
       "\n",
       "    .dataframe thead th {\n",
       "        text-align: right;\n",
       "    }\n",
       "</style>\n",
       "<table border=\"1\" class=\"dataframe\">\n",
       "  <thead>\n",
       "    <tr style=\"text-align: right;\">\n",
       "      <th></th>\n",
       "      <th>Device_Type</th>\n",
       "      <th>Stats_Access_Link</th>\n",
       "      <th>Pure_Url</th>\n",
       "    </tr>\n",
       "  </thead>\n",
       "  <tbody>\n",
       "    <tr>\n",
       "      <th>0</th>\n",
       "      <td>AXO145</td>\n",
       "      <td>&lt;url&gt;https://xcd32112.smart_meter.com&lt;/url&gt;</td>\n",
       "      <td>xcd32112.smart_meter.com</td>\n",
       "    </tr>\n",
       "    <tr>\n",
       "      <th>1</th>\n",
       "      <td>TRU151</td>\n",
       "      <td>&lt;url&gt;http://tXh67.dia_meter.com&lt;/url&gt;</td>\n",
       "      <td>tXh67.dia_meter.com</td>\n",
       "    </tr>\n",
       "    <tr>\n",
       "      <th>2</th>\n",
       "      <td>ZOD231</td>\n",
       "      <td>&lt;url&gt;http://yT5495.smart_meter.com&lt;/url&gt;</td>\n",
       "      <td>yT5495.smart_meter.com</td>\n",
       "    </tr>\n",
       "    <tr>\n",
       "      <th>3</th>\n",
       "      <td>YRT326</td>\n",
       "      <td>&lt;url&gt;https://ret323_TRu.crown.com&lt;/url&gt;</td>\n",
       "      <td>ret323_TRu.crown.com</td>\n",
       "    </tr>\n",
       "    <tr>\n",
       "      <th>4</th>\n",
       "      <td>LWR245</td>\n",
       "      <td>&lt;url&gt;https://luwr3243.celcius.com&lt;/url&gt;</td>\n",
       "      <td>luwr3243.celcius.com</td>\n",
       "    </tr>\n",
       "  </tbody>\n",
       "</table>\n",
       "</div>"
      ],
      "text/plain": [
       "  Device_Type                            Stats_Access_Link  \\\n",
       "0      AXO145  <url>https://xcd32112.smart_meter.com</url>   \n",
       "1      TRU151        <url>http://tXh67.dia_meter.com</url>   \n",
       "2      ZOD231     <url>http://yT5495.smart_meter.com</url>   \n",
       "3      YRT326      <url>https://ret323_TRu.crown.com</url>   \n",
       "4      LWR245      <url>https://luwr3243.celcius.com</url>   \n",
       "\n",
       "                   Pure_Url  \n",
       "0  xcd32112.smart_meter.com  \n",
       "1       tXh67.dia_meter.com  \n",
       "2    yT5495.smart_meter.com  \n",
       "3      ret323_TRu.crown.com  \n",
       "4      luwr3243.celcius.com  "
      ]
     },
     "execution_count": 7,
     "metadata": {},
     "output_type": "execute_result"
    }
   ],
   "source": [
    "df"
   ]
  }
 ],
 "metadata": {
  "kernelspec": {
   "display_name": "Python 3 (ipykernel)",
   "language": "python",
   "name": "python3"
  },
  "language_info": {
   "codemirror_mode": {
    "name": "ipython",
    "version": 3
   },
   "file_extension": ".py",
   "mimetype": "text/x-python",
   "name": "python",
   "nbconvert_exporter": "python",
   "pygments_lexer": "ipython3",
   "version": "3.10.7"
  }
 },
 "nbformat": 4,
 "nbformat_minor": 5
}
